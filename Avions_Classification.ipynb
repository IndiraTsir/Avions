{
 "cells": [
  {
   "cell_type": "code",
   "execution_count": 1,
   "id": "581215bf",
   "metadata": {
    "ExecuteTime": {
     "end_time": "2023-04-25T14:07:34.153843Z",
     "start_time": "2023-04-25T14:07:31.308056Z"
    }
   },
   "outputs": [],
   "source": [
    "from pycaret.classification import *\n",
    "from sklearn.preprocessing import OneHotEncoder\n",
    "import pandas as pd\n",
    "import numpy as np"
   ]
  },
  {
   "cell_type": "code",
   "execution_count": 2,
   "id": "c83b662e",
   "metadata": {
    "ExecuteTime": {
     "end_time": "2023-04-25T14:07:38.757349Z",
     "start_time": "2023-04-25T14:07:34.160246Z"
    }
   },
   "outputs": [],
   "source": [
    "baseline = pd.read_pickle(\"Baseline_nan.pkl\")"
   ]
  },
  {
   "cell_type": "code",
   "execution_count": 3,
   "id": "9f1d44de",
   "metadata": {
    "ExecuteTime": {
     "end_time": "2023-04-25T14:07:38.789275Z",
     "start_time": "2023-04-25T14:07:38.761689Z"
    }
   },
   "outputs": [
    {
     "name": "stdout",
     "output_type": "stream",
     "text": [
      "<class 'pandas.core.frame.DataFrame'>\n",
      "Int64Index: 5584553 entries, 0 to 460948\n",
      "Data columns (total 22 columns):\n",
      " #   Column                 Dtype  \n",
      "---  ------                 -----  \n",
      " 0   IS_DELAYED             int32  \n",
      " 1   FL_DATE                object \n",
      " 2   UNIQUE_CARRIER         object \n",
      " 3   AIRLINE_ID             int64  \n",
      " 4   FL_NUM                 object \n",
      " 5   ORIGIN_AIRPORT_ID      object \n",
      " 6   ORIGIN_CITY_MARKET_ID  object \n",
      " 7   ORIGIN_WAC             object \n",
      " 8   DEST_AIRPORT_ID        object \n",
      " 9   DEST_WAC               float64\n",
      " 10  DEP_DELAY              float64\n",
      " 11  DEP_TIME               object \n",
      " 12  ARR_TIME               object \n",
      " 13  ARR_DELAY              float64\n",
      " 14  CANCELLED              float64\n",
      " 15  AIR_TIME               float64\n",
      " 16  DISTANCE               float64\n",
      " 17  DISTANCE_GROUP         float64\n",
      " 18  WHEELS_ON              float64\n",
      " 19  WHEELS_OFF             float64\n",
      " 20  TAXI_OUT               object \n",
      " 21  CRS_ARR_TIME           float64\n",
      "dtypes: float64(10), int32(1), int64(1), object(10)\n",
      "memory usage: 958.7+ MB\n"
     ]
    }
   ],
   "source": [
    "baseline.info()"
   ]
  },
  {
   "cell_type": "code",
   "execution_count": 4,
   "id": "7f505348",
   "metadata": {
    "ExecuteTime": {
     "end_time": "2023-04-25T14:07:39.574168Z",
     "start_time": "2023-04-25T14:07:38.799731Z"
    }
   },
   "outputs": [],
   "source": [
    "baseline = baseline.drop([\"ARR_DELAY\",\"FL_NUM\",\"ORIGIN_WAC\",\"WHEELS_OFF\",\"WHEELS_ON\",\"DEP_DELAY\",\"DISTANCE\",\"CRS_ARR_TIME\",\"DEP_TIME\"], axis=1)"
   ]
  },
  {
   "cell_type": "code",
   "execution_count": 5,
   "id": "1be4ffb8",
   "metadata": {
    "ExecuteTime": {
     "end_time": "2023-04-25T14:07:39.586460Z",
     "start_time": "2023-04-25T14:07:39.577911Z"
    }
   },
   "outputs": [],
   "source": [
    "listt = baseline.columns.to_list()"
   ]
  },
  {
   "cell_type": "code",
   "execution_count": 6,
   "id": "e6a14e82",
   "metadata": {
    "ExecuteTime": {
     "end_time": "2023-04-25T14:07:39.603946Z",
     "start_time": "2023-04-25T14:07:39.594533Z"
    }
   },
   "outputs": [],
   "source": [
    "baseline_20 = baseline.iloc[0:200000]"
   ]
  },
  {
   "cell_type": "code",
   "execution_count": 7,
   "id": "50770fee",
   "metadata": {
    "ExecuteTime": {
     "end_time": "2023-04-25T14:07:39.631312Z",
     "start_time": "2023-04-25T14:07:39.611145Z"
    }
   },
   "outputs": [
    {
     "data": {
      "text/plain": [
       "['IS_DELAYED',\n",
       " 'FL_DATE',\n",
       " 'UNIQUE_CARRIER',\n",
       " 'AIRLINE_ID',\n",
       " 'ORIGIN_AIRPORT_ID',\n",
       " 'ORIGIN_CITY_MARKET_ID',\n",
       " 'DEST_AIRPORT_ID',\n",
       " 'DEST_WAC',\n",
       " 'ARR_TIME',\n",
       " 'CANCELLED',\n",
       " 'AIR_TIME',\n",
       " 'DISTANCE_GROUP',\n",
       " 'TAXI_OUT']"
      ]
     },
     "execution_count": 7,
     "metadata": {},
     "output_type": "execute_result"
    }
   ],
   "source": [
    "listt"
   ]
  },
  {
   "cell_type": "code",
   "execution_count": null,
   "id": "4dba2461",
   "metadata": {},
   "outputs": [],
   "source": []
  },
  {
   "cell_type": "code",
   "execution_count": 8,
   "id": "eaf3b21d",
   "metadata": {
    "ExecuteTime": {
     "end_time": "2023-04-25T14:07:42.789985Z",
     "start_time": "2023-04-25T14:07:39.638584Z"
    }
   },
   "outputs": [
    {
     "data": {
      "text/html": [
       "<style type=\"text/css\">\n",
       "#T_4b6a5_row9_col1 {\n",
       "  background-color: lightgreen;\n",
       "}\n",
       "</style>\n",
       "<table id=\"T_4b6a5\">\n",
       "  <thead>\n",
       "    <tr>\n",
       "      <th class=\"blank level0\" >&nbsp;</th>\n",
       "      <th id=\"T_4b6a5_level0_col0\" class=\"col_heading level0 col0\" >Description</th>\n",
       "      <th id=\"T_4b6a5_level0_col1\" class=\"col_heading level0 col1\" >Value</th>\n",
       "    </tr>\n",
       "  </thead>\n",
       "  <tbody>\n",
       "    <tr>\n",
       "      <th id=\"T_4b6a5_level0_row0\" class=\"row_heading level0 row0\" >0</th>\n",
       "      <td id=\"T_4b6a5_row0_col0\" class=\"data row0 col0\" >Session id</td>\n",
       "      <td id=\"T_4b6a5_row0_col1\" class=\"data row0 col1\" >123</td>\n",
       "    </tr>\n",
       "    <tr>\n",
       "      <th id=\"T_4b6a5_level0_row1\" class=\"row_heading level0 row1\" >1</th>\n",
       "      <td id=\"T_4b6a5_row1_col0\" class=\"data row1 col0\" >Target</td>\n",
       "      <td id=\"T_4b6a5_row1_col1\" class=\"data row1 col1\" >IS_DELAYED</td>\n",
       "    </tr>\n",
       "    <tr>\n",
       "      <th id=\"T_4b6a5_level0_row2\" class=\"row_heading level0 row2\" >2</th>\n",
       "      <td id=\"T_4b6a5_row2_col0\" class=\"data row2 col0\" >Target type</td>\n",
       "      <td id=\"T_4b6a5_row2_col1\" class=\"data row2 col1\" >Binary</td>\n",
       "    </tr>\n",
       "    <tr>\n",
       "      <th id=\"T_4b6a5_level0_row3\" class=\"row_heading level0 row3\" >3</th>\n",
       "      <td id=\"T_4b6a5_row3_col0\" class=\"data row3 col0\" >Original data shape</td>\n",
       "      <td id=\"T_4b6a5_row3_col1\" class=\"data row3 col1\" >(200000, 13)</td>\n",
       "    </tr>\n",
       "    <tr>\n",
       "      <th id=\"T_4b6a5_level0_row4\" class=\"row_heading level0 row4\" >4</th>\n",
       "      <td id=\"T_4b6a5_row4_col0\" class=\"data row4 col0\" >Transformed data shape</td>\n",
       "      <td id=\"T_4b6a5_row4_col1\" class=\"data row4 col1\" >(200000, 22)</td>\n",
       "    </tr>\n",
       "    <tr>\n",
       "      <th id=\"T_4b6a5_level0_row5\" class=\"row_heading level0 row5\" >5</th>\n",
       "      <td id=\"T_4b6a5_row5_col0\" class=\"data row5 col0\" >Transformed train set shape</td>\n",
       "      <td id=\"T_4b6a5_row5_col1\" class=\"data row5 col1\" >(140000, 22)</td>\n",
       "    </tr>\n",
       "    <tr>\n",
       "      <th id=\"T_4b6a5_level0_row6\" class=\"row_heading level0 row6\" >6</th>\n",
       "      <td id=\"T_4b6a5_row6_col0\" class=\"data row6 col0\" >Transformed test set shape</td>\n",
       "      <td id=\"T_4b6a5_row6_col1\" class=\"data row6 col1\" >(60000, 22)</td>\n",
       "    </tr>\n",
       "    <tr>\n",
       "      <th id=\"T_4b6a5_level0_row7\" class=\"row_heading level0 row7\" >7</th>\n",
       "      <td id=\"T_4b6a5_row7_col0\" class=\"data row7 col0\" >Numeric features</td>\n",
       "      <td id=\"T_4b6a5_row7_col1\" class=\"data row7 col1\" >5</td>\n",
       "    </tr>\n",
       "    <tr>\n",
       "      <th id=\"T_4b6a5_level0_row8\" class=\"row_heading level0 row8\" >8</th>\n",
       "      <td id=\"T_4b6a5_row8_col0\" class=\"data row8 col0\" >Categorical features</td>\n",
       "      <td id=\"T_4b6a5_row8_col1\" class=\"data row8 col1\" >7</td>\n",
       "    </tr>\n",
       "    <tr>\n",
       "      <th id=\"T_4b6a5_level0_row9\" class=\"row_heading level0 row9\" >9</th>\n",
       "      <td id=\"T_4b6a5_row9_col0\" class=\"data row9 col0\" >Preprocess</td>\n",
       "      <td id=\"T_4b6a5_row9_col1\" class=\"data row9 col1\" >True</td>\n",
       "    </tr>\n",
       "    <tr>\n",
       "      <th id=\"T_4b6a5_level0_row10\" class=\"row_heading level0 row10\" >10</th>\n",
       "      <td id=\"T_4b6a5_row10_col0\" class=\"data row10 col0\" >Imputation type</td>\n",
       "      <td id=\"T_4b6a5_row10_col1\" class=\"data row10 col1\" >simple</td>\n",
       "    </tr>\n",
       "    <tr>\n",
       "      <th id=\"T_4b6a5_level0_row11\" class=\"row_heading level0 row11\" >11</th>\n",
       "      <td id=\"T_4b6a5_row11_col0\" class=\"data row11 col0\" >Numeric imputation</td>\n",
       "      <td id=\"T_4b6a5_row11_col1\" class=\"data row11 col1\" >mean</td>\n",
       "    </tr>\n",
       "    <tr>\n",
       "      <th id=\"T_4b6a5_level0_row12\" class=\"row_heading level0 row12\" >12</th>\n",
       "      <td id=\"T_4b6a5_row12_col0\" class=\"data row12 col0\" >Categorical imputation</td>\n",
       "      <td id=\"T_4b6a5_row12_col1\" class=\"data row12 col1\" >mode</td>\n",
       "    </tr>\n",
       "    <tr>\n",
       "      <th id=\"T_4b6a5_level0_row13\" class=\"row_heading level0 row13\" >13</th>\n",
       "      <td id=\"T_4b6a5_row13_col0\" class=\"data row13 col0\" >Maximum one-hot encoding</td>\n",
       "      <td id=\"T_4b6a5_row13_col1\" class=\"data row13 col1\" >25</td>\n",
       "    </tr>\n",
       "    <tr>\n",
       "      <th id=\"T_4b6a5_level0_row14\" class=\"row_heading level0 row14\" >14</th>\n",
       "      <td id=\"T_4b6a5_row14_col0\" class=\"data row14 col0\" >Encoding method</td>\n",
       "      <td id=\"T_4b6a5_row14_col1\" class=\"data row14 col1\" >None</td>\n",
       "    </tr>\n",
       "    <tr>\n",
       "      <th id=\"T_4b6a5_level0_row15\" class=\"row_heading level0 row15\" >15</th>\n",
       "      <td id=\"T_4b6a5_row15_col0\" class=\"data row15 col0\" >Fold Generator</td>\n",
       "      <td id=\"T_4b6a5_row15_col1\" class=\"data row15 col1\" >StratifiedKFold</td>\n",
       "    </tr>\n",
       "    <tr>\n",
       "      <th id=\"T_4b6a5_level0_row16\" class=\"row_heading level0 row16\" >16</th>\n",
       "      <td id=\"T_4b6a5_row16_col0\" class=\"data row16 col0\" >Fold Number</td>\n",
       "      <td id=\"T_4b6a5_row16_col1\" class=\"data row16 col1\" >10</td>\n",
       "    </tr>\n",
       "    <tr>\n",
       "      <th id=\"T_4b6a5_level0_row17\" class=\"row_heading level0 row17\" >17</th>\n",
       "      <td id=\"T_4b6a5_row17_col0\" class=\"data row17 col0\" >CPU Jobs</td>\n",
       "      <td id=\"T_4b6a5_row17_col1\" class=\"data row17 col1\" >-1</td>\n",
       "    </tr>\n",
       "    <tr>\n",
       "      <th id=\"T_4b6a5_level0_row18\" class=\"row_heading level0 row18\" >18</th>\n",
       "      <td id=\"T_4b6a5_row18_col0\" class=\"data row18 col0\" >Use GPU</td>\n",
       "      <td id=\"T_4b6a5_row18_col1\" class=\"data row18 col1\" >False</td>\n",
       "    </tr>\n",
       "    <tr>\n",
       "      <th id=\"T_4b6a5_level0_row19\" class=\"row_heading level0 row19\" >19</th>\n",
       "      <td id=\"T_4b6a5_row19_col0\" class=\"data row19 col0\" >Log Experiment</td>\n",
       "      <td id=\"T_4b6a5_row19_col1\" class=\"data row19 col1\" >False</td>\n",
       "    </tr>\n",
       "    <tr>\n",
       "      <th id=\"T_4b6a5_level0_row20\" class=\"row_heading level0 row20\" >20</th>\n",
       "      <td id=\"T_4b6a5_row20_col0\" class=\"data row20 col0\" >Experiment Name</td>\n",
       "      <td id=\"T_4b6a5_row20_col1\" class=\"data row20 col1\" >clf-default-name</td>\n",
       "    </tr>\n",
       "    <tr>\n",
       "      <th id=\"T_4b6a5_level0_row21\" class=\"row_heading level0 row21\" >21</th>\n",
       "      <td id=\"T_4b6a5_row21_col0\" class=\"data row21 col0\" >USI</td>\n",
       "      <td id=\"T_4b6a5_row21_col1\" class=\"data row21 col1\" >0074</td>\n",
       "    </tr>\n",
       "  </tbody>\n",
       "</table>\n"
      ],
      "text/plain": [
       "<pandas.io.formats.style.Styler at 0x7fc2340d22e0>"
      ]
     },
     "metadata": {},
     "output_type": "display_data"
    }
   ],
   "source": [
    "s = setup(baseline_20, target = 'IS_DELAYED', session_id = 123)"
   ]
  },
  {
   "cell_type": "code",
   "execution_count": 9,
   "id": "bfb819e0",
   "metadata": {
    "ExecuteTime": {
     "end_time": "2023-04-25T14:10:23.295204Z",
     "start_time": "2023-04-25T14:07:42.795741Z"
    }
   },
   "outputs": [
    {
     "data": {
      "text/html": [],
      "text/plain": [
       "<IPython.core.display.HTML object>"
      ]
     },
     "metadata": {},
     "output_type": "display_data"
    },
    {
     "data": {
      "text/html": [
       "<style type=\"text/css\">\n",
       "#T_fd3d5 th {\n",
       "  text-align: left;\n",
       "}\n",
       "#T_fd3d5_row0_col0 {\n",
       "  text-align: left;\n",
       "}\n",
       "#T_fd3d5_row0_col1, #T_fd3d5_row0_col2, #T_fd3d5_row0_col3, #T_fd3d5_row0_col4, #T_fd3d5_row0_col5, #T_fd3d5_row0_col6, #T_fd3d5_row0_col7 {\n",
       "  text-align: left;\n",
       "  background-color: yellow;\n",
       "}\n",
       "#T_fd3d5_row0_col8 {\n",
       "  text-align: left;\n",
       "  background-color: yellow;\n",
       "  background-color: lightgrey;\n",
       "}\n",
       "</style>\n",
       "<table id=\"T_fd3d5\">\n",
       "  <thead>\n",
       "    <tr>\n",
       "      <th class=\"blank level0\" >&nbsp;</th>\n",
       "      <th id=\"T_fd3d5_level0_col0\" class=\"col_heading level0 col0\" >Model</th>\n",
       "      <th id=\"T_fd3d5_level0_col1\" class=\"col_heading level0 col1\" >Accuracy</th>\n",
       "      <th id=\"T_fd3d5_level0_col2\" class=\"col_heading level0 col2\" >AUC</th>\n",
       "      <th id=\"T_fd3d5_level0_col3\" class=\"col_heading level0 col3\" >Recall</th>\n",
       "      <th id=\"T_fd3d5_level0_col4\" class=\"col_heading level0 col4\" >Prec.</th>\n",
       "      <th id=\"T_fd3d5_level0_col5\" class=\"col_heading level0 col5\" >F1</th>\n",
       "      <th id=\"T_fd3d5_level0_col6\" class=\"col_heading level0 col6\" >Kappa</th>\n",
       "      <th id=\"T_fd3d5_level0_col7\" class=\"col_heading level0 col7\" >MCC</th>\n",
       "      <th id=\"T_fd3d5_level0_col8\" class=\"col_heading level0 col8\" >TT (Sec)</th>\n",
       "    </tr>\n",
       "  </thead>\n",
       "  <tbody>\n",
       "    <tr>\n",
       "      <th id=\"T_fd3d5_level0_row0\" class=\"row_heading level0 row0\" >et</th>\n",
       "      <td id=\"T_fd3d5_row0_col0\" class=\"data row0 col0\" >Extra Trees Classifier</td>\n",
       "      <td id=\"T_fd3d5_row0_col1\" class=\"data row0 col1\" >0.7386</td>\n",
       "      <td id=\"T_fd3d5_row0_col2\" class=\"data row0 col2\" >0.7678</td>\n",
       "      <td id=\"T_fd3d5_row0_col3\" class=\"data row0 col3\" >0.3631</td>\n",
       "      <td id=\"T_fd3d5_row0_col4\" class=\"data row0 col4\" >0.7763</td>\n",
       "      <td id=\"T_fd3d5_row0_col5\" class=\"data row0 col5\" >0.4948</td>\n",
       "      <td id=\"T_fd3d5_row0_col6\" class=\"data row0 col6\" >0.3484</td>\n",
       "      <td id=\"T_fd3d5_row0_col7\" class=\"data row0 col7\" >0.3941</td>\n",
       "      <td id=\"T_fd3d5_row0_col8\" class=\"data row0 col8\" >13.5930</td>\n",
       "    </tr>\n",
       "  </tbody>\n",
       "</table>\n"
      ],
      "text/plain": [
       "<pandas.io.formats.style.Styler at 0x7fc234e237f0>"
      ]
     },
     "metadata": {},
     "output_type": "display_data"
    },
    {
     "data": {
      "text/html": [],
      "text/plain": [
       "<IPython.core.display.HTML object>"
      ]
     },
     "metadata": {},
     "output_type": "display_data"
    }
   ],
   "source": [
    "# functional API\n",
    "best = compare_models(include=[\"et\"])"
   ]
  },
  {
   "cell_type": "code",
   "execution_count": 10,
   "id": "859f77ce",
   "metadata": {
    "ExecuteTime": {
     "end_time": "2023-04-25T14:10:23.310011Z",
     "start_time": "2023-04-25T14:10:23.303453Z"
    }
   },
   "outputs": [],
   "source": [
    "# pip install \"schemdraw<0.16\""
   ]
  },
  {
   "cell_type": "code",
   "execution_count": 11,
   "id": "d49ec47b",
   "metadata": {
    "ExecuteTime": {
     "end_time": "2023-04-25T14:10:26.551387Z",
     "start_time": "2023-04-25T14:10:23.316412Z"
    },
    "scrolled": false
   },
   "outputs": [
    {
     "data": {
      "application/vnd.jupyter.widget-view+json": {
       "model_id": "5a179eb4d2e94468911f8ea3efdccddf",
       "version_major": 2,
       "version_minor": 0
      },
      "text/plain": [
       "interactive(children=(ToggleButtons(description='Plot Type:', icons=('',), options=(('Pipeline Plot', 'pipelin…"
      ]
     },
     "metadata": {},
     "output_type": "display_data"
    }
   ],
   "source": [
    "# functional API\n",
    "evaluate_model(best)"
   ]
  },
  {
   "cell_type": "code",
   "execution_count": null,
   "id": "1a672617",
   "metadata": {},
   "outputs": [],
   "source": []
  }
 ],
 "metadata": {
  "kernelspec": {
   "display_name": "Python 3 (ipykernel)",
   "language": "python",
   "name": "python3"
  },
  "language_info": {
   "codemirror_mode": {
    "name": "ipython",
    "version": 3
   },
   "file_extension": ".py",
   "mimetype": "text/x-python",
   "name": "python",
   "nbconvert_exporter": "python",
   "pygments_lexer": "ipython3",
   "version": "3.9.13"
  },
  "toc": {
   "base_numbering": 1,
   "nav_menu": {},
   "number_sections": true,
   "sideBar": true,
   "skip_h1_title": false,
   "title_cell": "Table of Contents",
   "title_sidebar": "Contents",
   "toc_cell": false,
   "toc_position": {},
   "toc_section_display": true,
   "toc_window_display": false
  },
  "varInspector": {
   "cols": {
    "lenName": 16,
    "lenType": 16,
    "lenVar": 40
   },
   "kernels_config": {
    "python": {
     "delete_cmd_postfix": "",
     "delete_cmd_prefix": "del ",
     "library": "var_list.py",
     "varRefreshCmd": "print(var_dic_list())"
    },
    "r": {
     "delete_cmd_postfix": ") ",
     "delete_cmd_prefix": "rm(",
     "library": "var_list.r",
     "varRefreshCmd": "cat(var_dic_list()) "
    }
   },
   "types_to_exclude": [
    "module",
    "function",
    "builtin_function_or_method",
    "instance",
    "_Feature"
   ],
   "window_display": false
  }
 },
 "nbformat": 4,
 "nbformat_minor": 5
}
